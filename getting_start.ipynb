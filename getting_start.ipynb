{
 "cells": [
  {
   "cell_type": "code",
   "execution_count": 17,
   "metadata": {},
   "outputs": [],
   "source": [
    "\n",
    "import torch\n",
    "import numpy as np\n",
    "import open3d as o3d\n",
    "import copy\n",
    "# import matplotlib\n",
    "from matplotlib import pyplot as plt\n",
    "#? einops is elegant and powerful in tensor operation. Check here for the tutorial -> https://einops.rocks/1-einops-basics/\n",
    "from einops import rearrange, repeat \n",
    "from utils import  create_R, vis_world_bounds_o3d\n"
   ]
  },
  {
   "cell_type": "code",
   "execution_count": 3,
   "metadata": {},
   "outputs": [
    {
     "name": "stdout",
     "output_type": "stream",
     "text": [
      "(94, 352)\n"
     ]
    },
    {
     "data": {
      "text/plain": [
       "<matplotlib.image.AxesImage at 0x7fafdc60c520>"
      ]
     },
     "execution_count": 3,
     "metadata": {},
     "output_type": "execute_result"
    },
    {
     "data": {
      "image/png": "[encoded data removed]",
      "text/plain": [
       "<Figure size 640x480 with 1 Axes>"
      ]
     },
     "metadata": {},
     "output_type": "display_data"
    }
   ],
   "source": [
    "## Pixel Coordinate Sysyem\n",
    "## About Meshgrid and indexing\n",
    "H_raw, W_raw = 376, 1408 # Default rgb image resolution in KITTI-360\n",
    "downscale = 4.\n",
    "H, W = round(H_raw / downscale) , round(W_raw / downscale)\n",
    "# np.meshgrid follow 'xy' indexing bydefault\n",
    "u, v = np.meshgrid(np.linspace(0, W-1, W), np.linspace(0, H-1, H), indexing='xy')\n",
    "print(u.shape)\n",
    "uv_coordiante_np = np.stack((u / W,v / H), axis=-1) # shape [H, W, ()]\n",
    "# In UV cooridinate system [0,0] denot the top-left pixel \n",
    "plt.imshow((u + v)/2)\n",
    "# plt.show()"
   ]
  },
  {
   "cell_type": "code",
   "execution_count": 4,
   "metadata": {},
   "outputs": [],
   "source": [
    "# init camera intrainsic and camera pose\n",
    "K_raw = np.array([[552.554261,   0.      , 682.049453],\n",
    "                 [  0.      , 552.554261, 238.769549],\n",
    "                 [0., 0., 1.]])\n",
    "\n",
    "K = K_raw[:2] / downscale"
   ]
  },
  {
   "cell_type": "code",
   "execution_count": 7,
   "metadata": {},
   "outputs": [
    {
     "data": {
      "text/plain": [
       "array([[ 6.12323400e-17,  3.08148791e-33,  1.00000000e+00],\n",
       "       [ 3.82683432e-01,  9.23879533e-01, -2.34326020e-17],\n",
       "       [-9.23879533e-01,  3.82683432e-01,  5.65713056e-17]])"
      ]
     },
     "execution_count": 7,
     "metadata": {},
     "output_type": "execute_result"
    }
   ],
   "source": [
    "# World Coordinate System\n",
    "%matplotlib widget\n",
    "# In KITTI or KITTI-360, we set the world coordiante system as below\n",
    "# We define the world coordiante system as X forward, Y left, Z up\n",
    "# for camera on the car with 1.55m height and has ~5 degree inclination the, so rectify mat can make the origin \"on the ground\"\n",
    "# see http://www.cvlibs.net/datasets/kitti-360/documentation.php for more detail \n",
    "car_height = 1.55\n",
    "pi = 3.1415\n",
    "camera_T = np.array((0,0,car_height))\n",
    "camera_R = o3d.geometry.get_rotation_matrix_from_yxz((-np.pi/2,-np.pi/8 ,  0))\n",
    "camera_pose = c2w = np.eye(4)\n",
    "camera_pose[:3,:3] = camera_R\n",
    "camera_pose[:3,3] = camera_T\n",
    "c2w = camera_pose\n",
    "w2c = camera_extrinsic = np.linalg.inv(c2w)\n",
    "#? vector visualization -> https://stackoverflow.com/questions/42281966/how-to-plot-vectors-in-python-using-matplotlib\n",
    "''' camera_extrinsic = \n",
    "[[ux vx nx tx]\n",
    "[uy vy ny ty]\n",
    "[uz vz nz tz]\n",
    "[0 0 0 1]]\n",
    "U :right; V:up; N:look dir (for opengl only?)\n",
    "-> https://medium.com/@carmencincotti/lets-look-at-magic-lookat-matrices-c77e53ebdf78\n",
    "'''\n",
    "right_vec = camera_extrinsic[:3,0] # X-axis in camera coordiante\n",
    "up_vec =  camera_extrinsic[:3,1]# Y-axis ~\n",
    "forward_vec = camera_extrinsic[:3,2] # Z-axis ~\n",
    "\n",
    "V = np.stack((right_vec , up_vec, forward_vec), axis=-1)\n",
    "origin = repeat(camera_T, 'C-> N C', N=3) # origin point"
   ]
  },
  {
   "cell_type": "code",
   "execution_count": 25,
   "metadata": {},
   "outputs": [],
   "source": [
    "# # Ray helpers\n",
    "# Camera Coordinate System\n",
    "# 这里我们约定z方向长度为1的方向向量为ray_direction, 归一化的方向向量成称之为viewdir(view = ray_direction / norm( ray_direction))\n",
    "#? Difference between coordinate systems(opengl vs opencv) -> https://stackoverflow.com/questions/44375149/opencv-to-opengl-coordinate-system-transform\n",
    "# The camera coordinates of OpenCV goes X right, Y down, Z forward. While the camera coordinates of OpenGL goes X right, Y up, Z inward.\n",
    "# Ray helpers\n",
    "def get_rays_torch(H, W, K, c2w, cam_type = 'opengl'):\n",
    "    '''\n",
    "    coordinata type: opengl, opencv\n",
    "    '''\n",
    "    i, j = torch.meshgrid(torch.linspace(0, W-1, W), torch.linspace(0, H-1, H))  # pytorch's meshgrid has indexing='ij'\n",
    "    i = i.t()\n",
    "    j = j.t()\n",
    "    if cam_type == 'opengl':\n",
    "        dirs = torch.stack([(i-K[0][2])/K[0][0], -(j-K[1][2])/K[1][1], -torch.ones_like(i)], -1)\n",
    "    elif cam_type == 'opencv':\n",
    "        dirs = torch.stack([(i-K[0][2])/K[0][0], (j-K[1][2])/K[1][1], torch.ones_like(i)], -1)\n",
    "    # Rotate ray directions from camera frame to the world frame\n",
    "    rays_d = torch.sum(dirs[..., np.newaxis, :] * c2w[:3,:3], -1)  # dot product, equals to: [c2w.dot(dir) for dir in dirs]\n",
    "    # Translate camera frame's origin to the world frame. It is the origin of all rays.\n",
    "    rays_o = c2w[:3,-1].expand(rays_d.shape)\n",
    "    return rays_o, rays_d\n",
    "\n",
    "\n",
    "def get_rays_np(H, W, K, c2w , cam_type = 'opengl'):\n",
    "    '''\n",
    "    coordinata type: opengl, opencv\n",
    "    '''\n",
    "    i, j = np.meshgrid(np.arange(W, dtype=np.float32), np.arange(H, dtype=np.float32), indexing='xy')\n",
    "    if cam_type == 'opengl':\n",
    "        dirs = np.stack([(i-K[0][2])/K[0][0], -(j-K[1][2])/K[1][1], -np.ones_like(i)], -1)\n",
    "    elif cam_type == 'opencv':\n",
    "        dirs = np.stack([(i-K[0][2])/K[0][0], (j-K[1][2])/K[1][1], np.ones_like(i)], -1)\n",
    "    # Rotate ray directions from camera frame to the world frame\n",
    "    rays_d = np.sum(dirs[..., np.newaxis, :] * c2w[:3,:3], -1)  # dot product, equals to: [c2w.dot(dir) for dir in dirs]\n",
    "    # Translate camera frame's origin to the world frame. It is the origin of all rays.\n",
    "    rays_o = np.broadcast_to(c2w[:3,-1], np.shape(rays_d))\n",
    "    return rays_o, rays_d\n",
    "\n",
    "\n",
    "def ndc_rays(H, W, focal, near, rays_o, rays_d):\n",
    "    # Shift ray origins to near plane\n",
    "    t = -(near + rays_o[...,2]) / rays_d[...,2]\n",
    "    rays_o = rays_o + t[...,None] * rays_d\n",
    "    \n",
    "    # Projection\n",
    "    o0 = -1./(W/(2.*focal)) * rays_o[...,0] / rays_o[...,2]\n",
    "    o1 = -1./(H/(2.*focal)) * rays_o[...,1] / rays_o[...,2]\n",
    "    o2 = 1. + 2. * near / rays_o[...,2]\n",
    "\n",
    "    d0 = -1./(W/(2.*focal)) * (rays_d[...,0]/rays_d[...,2] - rays_o[...,0]/rays_o[...,2])\n",
    "    d1 = -1./(H/(2.*focal)) * (rays_d[...,1]/rays_d[...,2] - rays_o[...,1]/rays_o[...,2])\n",
    "    d2 = -2. * near / rays_o[...,2]\n",
    "    \n",
    "    rays_o = torch.stack([o0,o1,o2], -1)\n",
    "    rays_d = torch.stack([d0,d1,d2], -1)\n",
    "    \n",
    "    return rays_o, rays_d"
   ]
  },
  {
   "cell_type": "code",
   "execution_count": 19,
   "metadata": {},
   "outputs": [],
   "source": [
    "# Init camera-to-world matrix in different camera space\n",
    "cam_T = np.array((0,0,1.55))\n",
    "cam_R = create_R((0,20 / 180 * pi,0,))\n",
    "\n",
    "c2w_cv = create_c2w(cam_R_world=cam_R, cam_T_world=cam_T, cam_type='opencv')\n",
    "c2w_gl = create_c2w(cam_R_world=cam_R, cam_T_world=cam_T, cam_type='opengl')\n",
    "\n",
    "\n",
    "coordinate_world = o3d.geometry.TriangleMesh.create_coordinate_frame(size=5)\n",
    "coordinate_glcam = o3d.geometry.TriangleMesh.create_coordinate_frame(size=3).transform(c2w_gl)\n",
    "coordinate_cvcam = o3d.geometry.TriangleMesh.create_coordinate_frame(size=3).transform(c2w_cv)\n"
   ]
  },
  {
   "cell_type": "code",
   "execution_count": 29,
   "metadata": {},
   "outputs": [],
   "source": [
    "# Get Rays\n",
    "rays_gl = get_rays_np(H=H, W=W, K = K, c2w = c2w_gl, cam_type = 'opengl')\n",
    "rays_cv = get_rays_np(H=H, W=W, K = K, c2w = c2w_cv, cam_type = 'opencv')\n",
    "\n",
    "assert np.sum(rays_cv[1] - rays_gl[1]) < 1e-7"
   ]
  },
  {
   "cell_type": "code",
   "execution_count": 12,
   "metadata": {},
   "outputs": [],
   "source": [
    "#? open3d mesg transform -> http://www.open3d.org/docs/latest/tutorial/Basic/transformation.html\n",
    "def draw_world_boundary(geo_group = [], bound = [0, 64, -32, 64, -2, 14]):\n",
    "    pass\n"
   ]
  },
  {
   "cell_type": "code",
   "execution_count": null,
   "metadata": {},
   "outputs": [],
   "source": [
    "# Visualize the whole world\n",
    "import open3d as o3d\n",
    "vis = o3d.visualization.Visualizer()\n",
    "vis.create_window(width=1000, height=1000, visible= True)\n",
    "bounds = np.array([20, 0, 10, -10, 4, -2])\n",
    "# bounds = np.array([20, 0, 5, -5, 4, -2])\n",
    "\n",
    "geo_group = []\n",
    "geo_group += vis_world_bounds_o3d(bounds=bounds)\n",
    "geo_group += [coordinate_world, coordinate_glcam, coordinate_cvcam]\n",
    "\n",
    "for g in geo_group:\n",
    "    vis.add_geometry(g)\n",
    "\n",
    "vis.run()"
   ]
  },
  {
   "cell_type": "code",
   "execution_count": 13,
   "metadata": {},
   "outputs": [],
   "source": [
    "# Ray AABB Intersection"
   ]
  },
  {
   "cell_type": "code",
   "execution_count": 14,
   "metadata": {},
   "outputs": [],
   "source": [
    "# Load Tranform boundingbox"
   ]
  },
  {
   "cell_type": "code",
   "execution_count": 15,
   "metadata": {},
   "outputs": [],
   "source": [
    "# Load a semantic voxel"
   ]
  },
  {
   "cell_type": "code",
   "execution_count": 16,
   "metadata": {},
   "outputs": [
    {
     "name": "stdout",
     "output_type": "stream",
     "text": [
      "Displaying input mesh ...\n",
      "FEngine (64 bits) created at 0x7faf72b00000 (threading is enabled)\n",
      "FEngine resolved backend: OpenGL\n"
     ]
    },
    {
     "name": "stderr",
     "output_type": "stream",
     "text": [
      "[error] GLFW error: Cocoa: Failed to find service port for display\n"
     ]
    },
    {
     "name": "stdout",
     "output_type": "stream",
     "text": [
      "Displaying voxel grid ...\n"
     ]
    }
   ],
   "source": [
    "# bunny = o3d.data.BunnyMesh()\n",
    "# mesh = o3d.io.read_triangle_mesh(bunny.path)\n",
    "# mesh.compute_vertex_normals()\n",
    "\n",
    "# # Fit to unit cube.\n",
    "# mesh.scale(1 / np.max(mesh.get_max_bound() - mesh.get_min_bound()),\n",
    "#             center=mesh.get_center())\n",
    "# print('Displaying input mesh ...')\n",
    "# o3d.visualization.draw([mesh])\n",
    "\n",
    "# voxel_grid = o3d.geometry.VoxelGrid.create_from_triangle_mesh(\n",
    "#     mesh, voxel_size=0.05)\n",
    "# print('Displaying voxel grid ...')\n",
    "# o3d.visualization.draw([voxel_grid])"
   ]
  }
 ],
 "metadata": {
  "kernelspec": {
   "display_name": "Python 3 (ipykernel)",
   "language": "python",
   "name": "python3"
  },
  "language_info": {
   "codemirror_mode": {
    "name": "ipython",
    "version": 3
   },
   "file_extension": ".py",
   "mimetype": "text/x-python",
   "name": "python",
   "nbconvert_exporter": "python",
   "pygments_lexer": "ipython3",
   "version": "3.8.16"
  }
 },
 "nbformat": 4,
 "nbformat_minor": 2
}
